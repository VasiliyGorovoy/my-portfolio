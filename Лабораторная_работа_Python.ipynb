{
  "nbformat": 4,
  "nbformat_minor": 0,
  "metadata": {
    "colab": {
      "provenance": [],
      "authorship_tag": "ABX9TyOEK2Sg4Hde/aepmAejjXIY"
    },
    "kernelspec": {
      "name": "python3",
      "display_name": "Python 3"
    },
    "language_info": {
      "name": "python"
    }
  },
  "cells": [
    {
      "cell_type": "markdown",
      "source": [
        "Задача 1\n",
        "\n",
        "Дан список:\n",
        "\n",
        "list_01 = [1, 1, 2, 3, 5, 8, 13, 21, 34, 55, 89, 144, 233, 377, 610, 14, 46, 273, 22, 99, 15, 1000]\n",
        "\n",
        "Напишите алгоритм, который выводит число, равное сумме элементов списка, которые больше 10, но меньше 100, и которые больше 200, но меньше 500."
      ],
      "metadata": {
        "id": "bPb83GsjfwNB"
      }
    },
    {
      "cell_type": "code",
      "source": [
        "list_01 = [1, 1, 2, 3, 5, 8, 13, 21, 34, 55, 89, 144, 233, 377, 610, 14, 46, 273, 22, 99, 15, 1000]\n",
        "#создаем пустую переменную\n",
        "summa = 0\n",
        "#создаем цикл прохода по элементам списка\n",
        "for i in list_01:\n",
        "  #если 10 < i <100 и 200 < i <500\n",
        "  if ( i > 10 and i < 100 ) or ( i > 200 and i < 500 ):\n",
        "    #то прибавляем i к переменной summa\n",
        "    summa += i\n",
        "print (summa)\n"
      ],
      "metadata": {
        "colab": {
          "base_uri": "https://localhost:8080/"
        },
        "id": "J0SlyBuAf2oT",
        "outputId": "34cc2d72-f76d-4b15-b58e-c59679a33f77"
      },
      "execution_count": null,
      "outputs": [
        {
          "output_type": "stream",
          "name": "stdout",
          "text": [
            "1291\n"
          ]
        }
      ]
    },
    {
      "cell_type": "markdown",
      "source": [
        "Задача 2\n",
        "\n",
        "Дана строка:\n",
        "\n",
        "some_string = \"History is always written by the winners. When two cultures clash, the loser is obliterated, and the winner writes the history books - books which glorify their own cause and disparage the conquered foe. As Napoleon once said, 'What is history, but a fable agreed upon?'\"\n",
        "\n",
        "Напишите функцию, которая будет принимать в качестве аргумента букву и выводить все слова из строки, начинающиеся на эту букву (например, “w”)."
      ],
      "metadata": {
        "id": "84-IRHulgHmG"
      }
    },
    {
      "cell_type": "code",
      "source": [
        "some_string = \"\"\"History is always written by the winners.\n",
        " When two cultures clash, the loser is obliterated, and the winner writes the history books -\n",
        " books which glorify their own cause and disparage the conquered foe.\n",
        " As Napoleon once said, 'What is history, but a fable agreed upon?'\"\"\"\n",
        "\n",
        "import re\n",
        "\n",
        "def find_words(starting_letter):\n",
        "  pattern = r\"\\b\" + starting_letter + r\"[^\\W_]+\"\n",
        "  return re.findall(pattern, some_string)\n",
        "\n",
        "print(find_words(\"w\"))\n",
        "\n"
      ],
      "metadata": {
        "colab": {
          "base_uri": "https://localhost:8080/"
        },
        "id": "wnIeGSlbgYIG",
        "outputId": "62c35780-040d-4ff3-f5b6-0f1a42d7b5a3"
      },
      "execution_count": null,
      "outputs": [
        {
          "output_type": "stream",
          "name": "stdout",
          "text": [
            "['written', 'winners', 'winner', 'writes', 'which']\n"
          ]
        }
      ]
    },
    {
      "cell_type": "markdown",
      "source": [
        "Задача 3\n",
        "\n",
        "Напишите функцию, которая генерирует случайную последовательность из 6 цифр, причем в этой последовательности должна быть как минимум одна цифра 3. Позиция 3 определяться случайным образом. Например: \"456379\" или \"033456\"."
      ],
      "metadata": {
        "id": "pMRvu_M6ga9h"
      }
    },
    {
      "cell_type": "code",
      "source": [
        "import random\n",
        "\"\"\"создаем функцию без аргументов\"\"\"\n",
        "def generate_number():\n",
        "  \"\"\"создаем первую случайную цифру(переменную) от 0 до 9\n",
        "  с преобразованием ее в строку\"\"\"\n",
        "  number = str(random.randint(0,9))\n",
        "  \"\"\"цикл создает еще 5 случайных чисел\"\"\"\n",
        "  for i in range(5):\n",
        "    \"\"\"добавляем еще одно случайное число от 0 до 9\n",
        "    с преобразованием в строку\"\"\"\n",
        "    number += str(random.randint(0,9))\n",
        "    \"\"\"преобразовываем набор чисел в список\"\"\"\n",
        "    num_list = list(number)\n",
        "    \"\"\"генерируем случайный индекс от 0 до 5\"\"\"\n",
        "    random_index = random.randint(0,5)\n",
        "    \"\"\"если индекс меньше длины списка...\"\"\"\n",
        "    if random_index < len(num_list):\n",
        "      \"\"\"тогда заменяем элемент списка по индексу на число 3 \"\"\"\n",
        "      num_list[random_index] = '3'\n",
        "    \"\"\"к результату присоединяем список без разделителя\"\"\"\n",
        "    result = ''.join(num_list)\n",
        "  return result\n",
        "\n",
        "print(generate_number())"
      ],
      "metadata": {
        "colab": {
          "base_uri": "https://localhost:8080/"
        },
        "id": "IawGkigLgi6o",
        "outputId": "a89254af-0acb-44dc-c19c-722b9526c93f"
      },
      "execution_count": null,
      "outputs": [
        {
          "output_type": "stream",
          "name": "stdout",
          "text": [
            "553490\n"
          ]
        }
      ]
    },
    {
      "cell_type": "markdown",
      "source": [
        "Задача 4\n",
        "\n",
        "Данные студентов представлены в виде списка списков:\n",
        "\n",
        "students = [\n",
        "[\"0001\", \"Антонов\", \"Антон\", \"Игоревич\", \"20.08.2009\",\"БСТ161\"],\n",
        "[\"1102\", \"Богов\", \"Артем\", \"Игоревич\", \"25.01.2010\",\"БСТ162\"],\n",
        "[\"0333\", \"Глаголева\", \"Анастасия\", \"Николаевна\", \"11.07.2009\", \"БСТ163\"],\n",
        "[\"4004\", \"Степанова\", \"Наталья\", \"Александровна\", \"13.02.2008\", \"БСТ161\"],\n",
        "[\"0045\", \"Боков\", \"Игорь\", \"Харитонович\", \"02.06.2009\", \"БСТ161\"],\n",
        "[\"0096\", \"Васильков\", \"Валентин\", \"Сергеевич\", \"20.03.2009\", \"БСТ164\"],\n",
        "[\"0607\", \"Сиропова\", \"Виолетта\", \"Эдуардовна\", \"28.05.2010\", \"БСТ162\"],\n",
        "[\"4014\", \"Потапов\", \"Дмитрий\", \"Станиславович\", \"14.02.2012\", \"БСТ161\"]\n",
        "    ]\n",
        "1. Преобразуйте данные таким образом, чтобы они были представлены в виде словаря, в котором ключами являются номера студентов, а значениями — список из других данных о студентах.\n",
        "\n",
        "2. Напишите функцию, которая принимает номер группы и выводит пронумерованный и упорядоченный по алфавиту список (фамилии, имена, отчества) всех студентов этой группы. Необходимо обращаться к словарю.\n"
      ],
      "metadata": {
        "id": "bj-VpzAkgkRz"
      }
    },
    {
      "cell_type": "code",
      "source": [
        "students = [\n",
        "    [\"0001\", \"Антонов\", \"Антон\", \"Игоревич\", \"20.08.2009\",\"БСТ161\"],\n",
        "    [\"1102\", \"Богов\", \"Артем\", \"Игоревич\", \"25.01.2010\",\"БСТ162\"],\n",
        "    [\"0333\", \"Глаголева\", \"Анастасия\", \"Николаевна\", \"11.07.2009\", \"БСТ163\"],\n",
        "    [\"4004\", \"Степанова\", \"Наталья\", \"Александровна\", \"13.02.2008\", \"БСТ161\"],\n",
        "    [\"0045\", \"Боков\", \"Игорь\", \"Харитонович\", \"02.06.2009\", \"БСТ161\"],\n",
        "    [\"0096\", \"Васильков\", \"Валентин\", \"Сергеевич\", \"20.03.2009\", \"БСТ164\"],\n",
        "    [\"0607\", \"Сиропова\", \"Виолетта\", \"Эдуардовна\", \"28.05.2010\", \"БСТ162\"],\n",
        "    [\"4014\", \"Потапов\", \"Дмитрий\", \"Станиславович\", \"14.02.2012\", \"БСТ161\"] ]\n",
        "\"\"\"создаем пустой словарь\"\"\"\n",
        "students_dict = {}\n",
        "\"\"\"заполняем словарь, номер студента - ключ,\n",
        "  остальные данные значения\"\"\"\n",
        "for student in students:\n",
        " student_id = student[0]\n",
        " students_dict[student_id] = student[1:]\n",
        "\n",
        "\"\"\"создаем функцию группы студентов\"\"\"\n",
        "def group_students(group_number):\n",
        "  \"\"\"генератор списка, использует словарь students_dict и проверяет\n",
        "   последний элемент списка students на соответствие с group_number по индексу.\"\"\"\n",
        "  students_in_group = [student[0:] for student_id, student in students_dict.items() if student[-1] == group_number]\n",
        "  \"\"\"список сортируется методом sort\"\"\"\n",
        "  students_in_group.sort()\n",
        "  \"\"\"цикл проходит по списку students_in_group и выводит каждого студента в группе с номером\"\"\"\n",
        "  for i, student in enumerate(students_in_group, start=1):\n",
        "    print(f\"{i}. {student[0]} {student[1]} {student[2]}\")\n",
        "\n",
        "group_students(\"БСТ164\")"
      ],
      "metadata": {
        "id": "9JC1KsSrhTOJ",
        "colab": {
          "base_uri": "https://localhost:8080/"
        },
        "outputId": "5e3a8007-6ce0-4986-f45b-cb8c3b3366af"
      },
      "execution_count": null,
      "outputs": [
        {
          "output_type": "stream",
          "name": "stdout",
          "text": [
            "1. Васильков Валентин Сергеевич\n"
          ]
        }
      ]
    },
    {
      "cell_type": "markdown",
      "source": [
        "Задача 5\n",
        "\n",
        "Создайте класс Student, который создает объекты с данными о студентах (как в задаче 4). Класс должен иметь следующие методы: add_to_dict (добавляет объект в словарь из задачи 4), update_dict (обновляет запись о студенте в словаре из задачи 4), change_group (изменяет номер группы студента), change_id (изменяет номер студента) и print_date (выводит на экран данные студента).\n"
      ],
      "metadata": {
        "id": "uxAhUfCQhZur"
      }
    },
    {
      "cell_type": "code",
      "source": [
        "class Student:\n",
        "    def __init__(self, s_id, last_name, first_name, patronomic_name, date, group):\n",
        "      self.id_student = s_id\n",
        "      self.last_name = last_name\n",
        "      self.first_name = first_name\n",
        "      self.group = group\n",
        "      self.patronomic_name = patronomic_name\n",
        "      self.date = date\n",
        "\n",
        "    def add_to_dict(self, dictionary):\n",
        "       dictionary[self.id_student] = {\n",
        "           'last_name' : self.last_name,\n",
        "           'first_name' : self.first_name,\n",
        "           'patronomic_name' : self.patronomic_name,\n",
        "           'group': self.group,\n",
        "           'date' : self.date\n",
        "           }\n",
        "\n",
        "    def update_dict(self, dictionary):\n",
        "       if self.id_student in dictionary:\n",
        "            dictionary[self.id_student].update({\n",
        "                'last_name': self.last_name,\n",
        "                'first_name': self.first_name,\n",
        "                'patronomic_name': self.patronomic_name,\n",
        "                'group': self.group,\n",
        "                'date': self.date\n",
        "            })\n",
        "       else:\n",
        "            raise ValueError(f\"Студента с id {self.id_student} нет в словаре.\")\n",
        "\n",
        "    def change_group(self, new_group):\n",
        "      self.group = new_group\n",
        "\n",
        "    def change_id(self, new_id):\n",
        "      self.id_student = new_id\n",
        "\n",
        "    def print_data(self):\n",
        "           print(f\"ID студента: {self.id_student}\")\n",
        "           print(f\"Фамилия: {self.last_name}\")\n",
        "           print(f\"Имя: {self.first_name}\")\n",
        "           print(f\"Отчество: {self.patronomic_name}\")\n",
        "           print(f\"Группа: {self.group}\")\n",
        "           print(f\"Дата рождения: {self.date}\")"
      ],
      "metadata": {
        "id": "i5pairHXhond"
      },
      "execution_count": null,
      "outputs": []
    },
    {
      "cell_type": "markdown",
      "source": [
        "Задача 6\n",
        "\n",
        "Дана матрица matrix. Напишите код, который будет транспонировать её (то есть, делать из строк столбцы) в maytix_t:\n",
        "\n",
        "matrix_t = [ [0, 6, 3, 4, 5], [1, 2, 3, 6, 7], [2, 2, 3, 7, 3], [4, 1, 3, 1, 4], [8, 9, 3, 2, 0] ]"
      ],
      "metadata": {
        "id": "LpvgKoK8iSvC"
      }
    },
    {
      "cell_type": "code",
      "source": [
        " matrix = [\n",
        "    [0,1,2,4,8],\n",
        "    [6,2,2,1,9],\n",
        "    [3,3,3,3,3],\n",
        "    [4,6,7,1,2],\n",
        "    [5,7,3,4,0]]\n",
        "\n",
        "# Количество строк и столбцов в исходной матрице\n",
        "rows = len(matrix)\n",
        "cols = len(matrix[0])\n",
        "\n",
        "# Создаём новую пустую матрицу для результата\n",
        "matrix_t = [[0] * rows for _ in range(cols)]\n",
        "\n",
        "# Транспонируем матрицу\n",
        "for i in range(rows):\n",
        "    for j in range(cols):\n",
        "        matrix_t[j][i] = matrix[i][j]\n",
        "\n",
        "# Выводим результат\n",
        "for row in matrix_t:\n",
        "    print(row)\n"
      ],
      "metadata": {
        "id": "uu8ENg_GiaaX",
        "colab": {
          "base_uri": "https://localhost:8080/"
        },
        "outputId": "6e5bd589-0150-4709-babf-aebed7fd56ca"
      },
      "execution_count": null,
      "outputs": [
        {
          "output_type": "stream",
          "name": "stdout",
          "text": [
            "[0, 6, 3, 4, 5]\n",
            "[1, 2, 3, 6, 7]\n",
            "[2, 2, 3, 7, 3]\n",
            "[4, 1, 3, 1, 4]\n",
            "[8, 9, 3, 2, 0]\n"
          ]
        }
      ]
    }
  ]
}
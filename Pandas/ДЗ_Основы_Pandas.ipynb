{
  "nbformat": 4,
  "nbformat_minor": 0,
  "metadata": {
    "colab": {
      "provenance": [],
      "gpuType": "T4",
      "authorship_tag": "ABX9TyNemGVIYIwTUG6YUaGEUG33"
    },
    "kernelspec": {
      "name": "python3",
      "display_name": "Python 3"
    },
    "language_info": {
      "name": "python"
    }
  },
  "cells": [
    {
      "cell_type": "markdown",
      "source": [
        "Задание 1  \n",
        "Датасет для домашнего задания вы найдете:  \n",
        "в материалах к лекции «Библиотека Pandas», файл “Дополнительные файлы для домашнего задания” (актуально для групп до PYDA-59)\n",
        "файлы для домашнего задания «Библиотека Pandas» ( актуально с группы PYDA-59 и далее).  \n",
        "Определите, какому фильму было выставлено больше всего оценок 5.0."
      ],
      "metadata": {
        "id": "ZCncWO-RVriK"
      }
    },
    {
      "cell_type": "code",
      "source": [
        "import pandas as pd\n",
        "\n",
        "data1 = pd.read_csv('/content/movies.csv', sep = ',')\n",
        "data2 = pd.read_csv('/content/ratings.csv', sep = ',')\n",
        "\n",
        "\"\"\"объединяем датафреймы\"\"\"\n",
        "merge_data = pd.merge(data1, data2, on='movieId', how = 'inner')\n",
        "\"\"\"Фильтруем строки с рейтингом 5.0\"\"\"\n",
        "rating = merge_data.query(\"rating == 5.0\")\n",
        "\"\"\"Группируем данные по названию фильма и считаем количество оценок 5.0\"\"\"\n",
        "rating_count = rating.groupby('title')['rating'].count()\n",
        "\"\"\"находим фильм у которого больше всего оценок 5.0\"\"\"\n",
        "max_film_rating = rating_count.idxmax()\n",
        "\n",
        "print(max_film_rating)\n"
      ],
      "metadata": {
        "colab": {
          "base_uri": "https://localhost:8080/"
        },
        "id": "LqPpTNZjWX3k",
        "outputId": "0e60b388-a2f9-4a2b-d82f-0884e5ad4646"
      },
      "execution_count": null,
      "outputs": [
        {
          "output_type": "stream",
          "name": "stdout",
          "text": [
            "Shawshank Redemption, The (1994)\n"
          ]
        }
      ]
    },
    {
      "cell_type": "markdown",
      "source": [
        "Задание 2  \n",
        "По данным файла power.csv посчитайте суммарное потребление стран Прибалтики (Латвия, Литва и Эстония) категорий 4, 12 и 21 за период с 2005 по 2010 год. Не учитывайте в расчётах отрицательные значения quantity."
      ],
      "metadata": {
        "id": "wNXmgM9cWZkq"
      }
    },
    {
      "cell_type": "code",
      "source": [
        "import pandas as pd\n",
        "\n",
        "dt = pd.read_csv('/content/power.csv', sep = ',')\n",
        "\"\"\"создаем условия для фильтров\"\"\"\n",
        "pribaltica = ['Estonia','Latvia','Lithuania']\n",
        "categories = [4,12,21]\n",
        "years = range(2005,2011)\n",
        "\"\"\"применяем фильтры\"\"\"\n",
        "filter_dt = dt[\n",
        "    (dt['country'].isin(pribaltica)) &\n",
        "    (dt['category'].isin(categories)) &\n",
        "    (dt['year'].isin(years)) &\n",
        "    (dt['quantity'] >=0 )\n",
        "]\n",
        "\n",
        "print(filter_dt.head(20))\n"
      ],
      "metadata": {
        "id": "Fj4pD8zvWhh8",
        "colab": {
          "base_uri": "https://localhost:8080/"
        },
        "outputId": "79268935-eb29-4fff-fcb9-1342fc9c1886"
      },
      "execution_count": null,
      "outputs": [
        {
          "output_type": "stream",
          "name": "stdout",
          "text": [
            "         country  year  quantity  category\n",
            "10617    Estonia  2008       1.0       4.0\n",
            "10618    Estonia  2007       0.0       4.0\n",
            "10619    Estonia  2006       0.0       4.0\n",
            "10620    Estonia  2005       1.0       4.0\n",
            "11156  Lithuania  2008       1.0       4.0\n",
            "11157  Lithuania  2007       0.0       4.0\n",
            "11158  Lithuania  2006       1.0       4.0\n",
            "11159  Lithuania  2005       1.0       4.0\n",
            "12755    Estonia  2008       1.0       4.0\n",
            "12756    Estonia  2007       0.0       4.0\n",
            "12757    Estonia  2006       0.0       4.0\n",
            "12758    Estonia  2005       1.0       4.0\n",
            "13294  Lithuania  2008       1.0       4.0\n",
            "13295  Lithuania  2007       0.0       4.0\n",
            "13296  Lithuania  2006       1.0       4.0\n",
            "13297  Lithuania  2005       1.0       4.0\n",
            "14647     Latvia  2010       0.0       4.0\n",
            "14648     Latvia  2009       0.0       4.0\n",
            "14649     Latvia  2008       0.0       4.0\n",
            "14650     Latvia  2007       0.0       4.0\n"
          ]
        }
      ]
    },
    {
      "cell_type": "markdown",
      "source": [
        "Задание 3   \n",
        "Выберите страницу любого сайта с табличными данными. Импортируйте таблицы в pandas DataFrame. Вы можете взять любые страницы.  \n",
        "Примеры страниц:\n",
        "\n",
        "https://fortrader.org/quotes  \n",
        "pythonworld.ru...strok.html"
      ],
      "metadata": {
        "id": "0Q98gQFYWjgN"
      }
    },
    {
      "cell_type": "code",
      "source": [
        "\n",
        "\"\"\"Использует библиотеку requests для получения HTML-кода страницы\"\"\"\n",
        "import requests\n",
        "\"\"\"Парсит HTML-код с помощью библиотеки BeautifulSoup\"\"\"\n",
        "from bs4 import BeautifulSoup\n",
        "import pandas as pd\n",
        "\n",
        "\"\"\"Получаем HTML-код страницы\"\"\"\n",
        "url = 'https://fortrader.org/quotes'\n",
        "response = requests.get(url)\n",
        "soup = BeautifulSoup(response.text, 'html.parser')\n",
        "\"\"\"Находим таблицы на странице\"\"\"\n",
        "tables = soup.find_all('table')\n",
        "\"\"\"Извлекаем данные из таблицы\"\"\"\n",
        "df = pd.read_html(str(tables[0]))[0]\n",
        "print(df.head())"
      ],
      "metadata": {
        "id": "cjmfvMe0Wv8C",
        "colab": {
          "base_uri": "https://localhost:8080/"
        },
        "outputId": "40e8af01-ce89-477f-a606-949c64d95519"
      },
      "execution_count": null,
      "outputs": [
        {
          "output_type": "stream",
          "name": "stdout",
          "text": [
            "                           Название    Цена  Изменение  Изменение(%)  \\\n",
            "0  EURRUB Курс евро к рублю сегодня  108.19      -0.42         -0.39   \n",
            "1       USDRUB Курс рубля к доллару  103.84      -0.28         -0.27   \n",
            "\n",
            "   Обновлено  \n",
            "0        NaN  \n",
            "1        NaN  \n"
          ]
        },
        {
          "output_type": "stream",
          "name": "stderr",
          "text": [
            "<ipython-input-2-d784e2816527>:14: FutureWarning: Passing literal html to 'read_html' is deprecated and will be removed in a future version. To read from a literal string, wrap it in a 'StringIO' object.\n",
            "  df = pd.read_html(str(tables[0]))[0]\n"
          ]
        }
      ]
    }
  ]
}
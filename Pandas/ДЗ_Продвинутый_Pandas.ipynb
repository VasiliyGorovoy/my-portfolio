{
  "nbformat": 4,
  "nbformat_minor": 0,
  "metadata": {
    "colab": {
      "provenance": [],
      "authorship_tag": "ABX9TyOMQfJWl/4XRj7O3mBYF60i"
    },
    "kernelspec": {
      "name": "python3",
      "display_name": "Python 3"
    },
    "language_info": {
      "name": "python"
    }
  },
  "cells": [
    {
      "cell_type": "markdown",
      "source": [
        "Задание 1  \n",
        "Для датафрейма log из материалов занятия создайте столбец source_type по правилам:\n",
        "\n",
        "если источник traffic_source равен Yandex или Google, то в source_type ставится organic;  \n",
        "для источников paid и email из России ставим ad;  \n",
        "для источников paid и email не из России ставим other;  \n",
        "все остальные варианты берём из traffic_source без изменений."
      ],
      "metadata": {
        "id": "6OgaUFroMiDr"
      }
    },
    {
      "cell_type": "code",
      "source": [
        "import pandas as pd\n",
        "\n",
        "log = pd.read_csv('/content/visit_log.csv', sep = ';')\n",
        "\n",
        "\"\"\"Создание столбца source_type\"\"\"\n",
        "log['source_type'] = ''\n",
        "\n",
        "\"\"\"Применяем правила\"\"\"\n",
        "log.loc[log['traffic_source'].isin(['yandex', 'google']), 'source_type'] = 'organic'\n",
        "log.loc[(log['traffic_source'].isin(['paid', 'email'])) & (log['region'] == 'Russia'), 'source_type'] = 'ad'\n",
        "log.loc[(log['traffic_source'].isin(['paid', 'email'])) & (log['region'] != 'Russia'), 'source_type'] = 'other'\n",
        "log.loc[log['source_type'] == '', 'source_type'] = log['traffic_source']\n",
        "print(log.head(20))"
      ],
      "metadata": {
        "colab": {
          "base_uri": "https://localhost:8080/"
        },
        "id": "gN7fWB8NM1ty",
        "outputId": "b3c7d357-1229-42a3-d0fa-3c1b36a12b64"
      },
      "execution_count": null,
      "outputs": [
        {
          "output_type": "stream",
          "name": "stdout",
          "text": [
            "     timestamp    visit_id                                 url   region  \\\n",
            "0   1549980692  e3b0c44298  https://host.ru/3c19b4ef7371864fa3   Russia   \n",
            "1   1549980704  6e340b9cff  https://host.ru/c8d9213a31839f9a3a   Russia   \n",
            "2   1549980715  96a296d224  https://host.ru/b8b58337d272ee7b15   Russia   \n",
            "3   1549980725  709e80c884  https://host.ru/b8b58337d272ee7b15   Russia   \n",
            "4   1549980736  df3f619804  https://host.ru/b8b58337d272ee7b15   Russia   \n",
            "5   1549980742  8855508aad  https://host.ru/df646c3676cc259fa0   Russia   \n",
            "6   1549980742  b0f66adc83  https://host.ru/b8b58337d272ee7b15   Russia   \n",
            "7   1549980754  837885c8f8  https://host.ru/108ce4b365afb7b88e   Russia   \n",
            "8   1549980760  af5570f5a1  https://host.ru/3004a8273caeef2867    China   \n",
            "9   1549980765  3e7077fd2f  https://host.ru/df646c3676cc259fa0   Russia   \n",
            "10  1549980777  01d448afd9  https://host.ru/a5dda93e70318570c0    India   \n",
            "11  1549980785  71b6c1d538  https://host.ru/c8d9213a31839f9a3a  Ukraine   \n",
            "12  1549980789  15ec7bf0b5  https://host.ru/8e88d4703848cc0ec4   Russia   \n",
            "13  1549980792  dd46c3eebb  https://host.ru/3004a8273caeef2867    China   \n",
            "14  1549980793  e7ecebbc59  https://host.ru/05e41944dd85a900a6  Belarus   \n",
            "15  1549980797  5322fecfc9  https://host.ru/4adc8a29b212051b04  Belarus   \n",
            "16  1549980801  374708fff7  https://host.ru/39fa884393666d45fc   Russia   \n",
            "17  1549980807  0a88111852  https://host.ru/2fcb223266880ccf57  Ukraine   \n",
            "18  1549980814  60daa3a5f7  https://host.ru/ef57543002ce2a0f2a  Belarus   \n",
            "19  1549980816  d6fd62f5ce  https://host.ru/f1eb4601740d627ab0  Belarus   \n",
            "\n",
            "       user_id traffic_source source_type  \n",
            "0   b1613cc09f         yandex     organic  \n",
            "1   4c3ec14bee         direct      direct  \n",
            "2   a8c40697fb         yandex     organic  \n",
            "3   521ac1d6a0         yandex     organic  \n",
            "4   d7323c571c         yandex     organic  \n",
            "5   fc43898e47         yandex     organic  \n",
            "6   13fc55e781           paid          ad  \n",
            "7   cb5082b6f6         direct      direct  \n",
            "8   45664f7af2         direct      direct  \n",
            "9   6f9de8c8b6          email          ad  \n",
            "10  27e76a4a80         direct      direct  \n",
            "11  3b13701488         google     organic  \n",
            "12  6d1d81f7f8           paid          ad  \n",
            "13  7e301c8c41         direct      direct  \n",
            "14  ac52dedc3b         direct      direct  \n",
            "15  9a45d98867           paid       other  \n",
            "16  e9bd59e22d         google     organic  \n",
            "17  a2ba8fa3db           paid       other  \n",
            "18  72cb10fb5c         direct      direct  \n",
            "19  7269dcd869         direct      direct  \n"
          ]
        }
      ]
    },
    {
      "cell_type": "markdown",
      "source": [
        "Задание 2\n",
        "\n",
        "В файле URLs.txt содержатся URL страниц новостного сайта. Вам нужно отфильтровать его по адресам страниц с текстами новостей. Известно, что шаблон страницы новостей имеет внутри URL конструкцию: /, затем 8 цифр, затем дефис.  \n",
        "Выполните действия:\n",
        "\n",
        "Прочитайте содержимое файла с датафрейм.\n",
        "Отфильтруйте страницы с текстом новостей, используя метод str.contains и регулярное выражение в соответствие с заданным шаблоном."
      ],
      "metadata": {
        "id": "Nk-20eJ_NBFv"
      }
    },
    {
      "cell_type": "code",
      "source": [
        "import pandas as pd\n",
        "\n",
        "df = pd.read_csv('/content/URLs.txt', sep='\\t')\n",
        "\n",
        "\"\"\"Применение регулярного выражения для фильтрации строк\"\"\"\n",
        "pattern = r'/[0-9]{8}-'\n",
        "mask = df['url'].str.contains(pattern)\n",
        "\n",
        "\"\"\"Создание нового датафрейма с отфильтрованными строками\"\"\"\n",
        "news_df = df[mask]\n",
        "\n",
        "print(df.head(10))"
      ],
      "metadata": {
        "colab": {
          "base_uri": "https://localhost:8080/"
        },
        "id": "8N9tYQF6NLId",
        "outputId": "155c0a05-f158-4b92-c6a6-009eab599b11"
      },
      "execution_count": null,
      "outputs": [
        {
          "output_type": "stream",
          "name": "stdout",
          "text": [
            "                                                 url\n",
            "0                                            /world/\n",
            "1                                           /latest/\n",
            "2                                      /?updated=top\n",
            "3  /politics/36188461-s-marta-zhizn-rossiyan-susc...\n",
            "4  /world/36007585-tramp-pridumal-kak-reshit-ukra...\n",
            "5  /science/36157853-nasa-sobiraet-ekstrennuyu-pr...\n",
            "6  /video/36001498-poyavilis-pervye-podrobnosti-g...\n",
            "7  /world/36007585-tramp-pridumal-kak-reshit-ukra...\n",
            "8                                          /science/\n",
            "9                                            /sport/\n"
          ]
        }
      ]
    },
    {
      "cell_type": "markdown",
      "source": [
        "Задание 3\n",
        "\n",
        "Используйте файл с оценками фильмов ml-latest-small/ratings.csv. Посчитайте среднее время жизни пользователей, которые выставили более 100 оценок. Под временем жизни понимается разница между максимальным и минимальным значениями столбца timestamp для данного значения userId."
      ],
      "metadata": {
        "id": "otA7f1ubNNEi"
      }
    },
    {
      "cell_type": "code",
      "source": [
        "import pandas as pd\n",
        "\n",
        "df = pd.read_csv('/content/ratings.csv', sep = ',')\n",
        "\n",
        "\"\"\"Группировка по userId и вычисление количества оценок, максимального и минимального значений timestamp\"\"\"\n",
        "group_df = df.groupby('userId')['timestamp'].agg(['count', 'max', 'min'])\n",
        "\n",
        "\"\"\"Фильтрация пользователей, у которых более 100 оценок\"\"\"\n",
        "filter_df = group_df.query(\"count > 100\")\n",
        "\n",
        "\"\"\"Вычисляем разницу между максимальным и минимальным значением timestamp\"\"\"\n",
        "filter_df['mean_time'] = filter_df['max'] - filter_df['min']\n",
        "\n",
        "\"\"\"Рассчитываем среднее время жизни\"\"\"\n",
        "mean_time = filter_df['mean_time'].mean()\n",
        "\n",
        "\"\"\"Добавляем среднее время жизни в датафрейм\"\"\"\n",
        "df['mean_time'] = mean_time\n",
        "\n",
        "print(df.head(10))"
      ],
      "metadata": {
        "colab": {
          "base_uri": "https://localhost:8080/"
        },
        "id": "3_kPymlfNVUn",
        "outputId": "fb1584a7-7444-443c-f406-90333069015b"
      },
      "execution_count": null,
      "outputs": [
        {
          "output_type": "stream",
          "name": "stdout",
          "text": [
            "   userId  movieId  rating   timestamp     mean_time\n",
            "0       1       31     2.5  1260759144  4.008051e+07\n",
            "1       1     1029     3.0  1260759179  4.008051e+07\n",
            "2       1     1061     3.0  1260759182  4.008051e+07\n",
            "3       1     1129     2.0  1260759185  4.008051e+07\n",
            "4       1     1172     4.0  1260759205  4.008051e+07\n",
            "5       1     1263     2.0  1260759151  4.008051e+07\n",
            "6       1     1287     2.0  1260759187  4.008051e+07\n",
            "7       1     1293     2.0  1260759148  4.008051e+07\n",
            "8       1     1339     3.5  1260759125  4.008051e+07\n",
            "9       1     1343     2.0  1260759131  4.008051e+07\n"
          ]
        },
        {
          "output_type": "stream",
          "name": "stderr",
          "text": [
            "<ipython-input-13-b4e67c9d5b91>:12: SettingWithCopyWarning: \n",
            "A value is trying to be set on a copy of a slice from a DataFrame.\n",
            "Try using .loc[row_indexer,col_indexer] = value instead\n",
            "\n",
            "See the caveats in the documentation: https://pandas.pydata.org/pandas-docs/stable/user_guide/indexing.html#returning-a-view-versus-a-copy\n",
            "  filter_df['mean_time'] = filter_df['max'] - filter_df['min']\n"
          ]
        }
      ]
    },
    {
      "cell_type": "markdown",
      "source": [
        "Задание 4\n",
        "\n",
        "Дана статистика услуг перевозок клиентов компании по типам:  \n",
        "rzd - железнодорожные перевозки  \n",
        "auto - автомобильные перевозки  \n",
        "air - воздушные перевозки  \n",
        "client_base - адреса клиентов\n",
        "\n",
        "Нужно сформировать две таблицы:  \n",
        "таблицу с тремя типами выручки для каждого client_id без указания адреса клиента;  \n",
        "аналогичную таблицу по типам выручки с указанием адреса клиента.  \n",
        "\n",
        "Обратите внимание, что в процессе объединения таблиц данные не должны теряться."
      ],
      "metadata": {
        "id": "AQWDHHPNNa0Y"
      }
    },
    {
      "cell_type": "code",
      "source": [
        "rzd = pd.DataFrame(\n",
        "    {\n",
        "        'client_id': [111, 112, 113, 114, 115],\n",
        "        'rzd_revenue': [1093, 2810, 10283, 5774, 981]\n",
        "    }\n",
        ")\n",
        "\n",
        "auto = pd.DataFrame(\n",
        "    {\n",
        "        'client_id': [113, 114, 115, 116, 117],\n",
        "        'auto_revenue': [57483, 83, 912, 4834, 98]\n",
        "    }\n",
        ")\n",
        "\n",
        "air = pd.DataFrame(\n",
        "    {\n",
        "        'client_id': [115, 116, 117, 118],\n",
        "        'air_revenue': [81, 4, 13, 173]\n",
        "    }\n",
        ")\n",
        "\n",
        "client_base = pd.DataFrame(\n",
        "    {\n",
        "        'client_id': [111, 112, 113, 114, 115, 116, 117, 118],\n",
        "        'address': ['Комсомольская 4', 'Энтузиастов 8а', 'Левобережная 1а', 'Мира 14', 'ЗЖБИиДК 1',\n",
        "                    'Строителей 18', 'Панфиловская 33', 'Мастеркова 4']\n",
        "    }\n",
        ")"
      ],
      "metadata": {
        "id": "O1VpvjIeN52R"
      },
      "execution_count": null,
      "outputs": []
    },
    {
      "cell_type": "code",
      "source": [
        "\"\"\"первая таблица с тремя типами выручки для каждого клиента без адреса\"\"\"\n",
        "table1 = pd.merge(rzd, auto, on='client_id', how='outer').merge(air, on='client_id', how='outer')\n",
        "print(table1)"
      ],
      "metadata": {
        "colab": {
          "base_uri": "https://localhost:8080/"
        },
        "id": "zk26c7X4hLEz",
        "outputId": "2cc40c6e-bd85-4c9e-a58e-a41aef39b8a1"
      },
      "execution_count": null,
      "outputs": [
        {
          "output_type": "stream",
          "name": "stdout",
          "text": [
            "   client_id  rzd_revenue  auto_revenue  air_revenue\n",
            "0        111       1093.0           NaN          NaN\n",
            "1        112       2810.0           NaN          NaN\n",
            "2        113      10283.0       57483.0          NaN\n",
            "3        114       5774.0          83.0          NaN\n",
            "4        115        981.0         912.0         81.0\n",
            "5        116          NaN        4834.0          4.0\n",
            "6        117          NaN          98.0         13.0\n",
            "7        118          NaN           NaN        173.0\n"
          ]
        }
      ]
    },
    {
      "cell_type": "code",
      "source": [
        "\"\"\"вторая таблица по типам выручки для каждого клиента с адресом\"\"\"\n",
        "table2 = pd.merge(table1, client_base, on ='client_id', how='outer')\n",
        "print(table2)"
      ],
      "metadata": {
        "colab": {
          "base_uri": "https://localhost:8080/"
        },
        "id": "y3CVTTsEn3wN",
        "outputId": "06602557-06ca-4736-9e80-d7e0b9607ffb"
      },
      "execution_count": null,
      "outputs": [
        {
          "output_type": "stream",
          "name": "stdout",
          "text": [
            "   client_id  rzd_revenue  auto_revenue  air_revenue          address\n",
            "0        111       1093.0           NaN          NaN  Комсомольская 4\n",
            "1        112       2810.0           NaN          NaN   Энтузиастов 8а\n",
            "2        113      10283.0       57483.0          NaN  Левобережная 1а\n",
            "3        114       5774.0          83.0          NaN          Мира 14\n",
            "4        115        981.0         912.0         81.0        ЗЖБИиДК 1\n",
            "5        116          NaN        4834.0          4.0    Строителей 18\n",
            "6        117          NaN          98.0         13.0  Панфиловская 33\n",
            "7        118          NaN           NaN        173.0     Мастеркова 4\n"
          ]
        }
      ]
    }
  ]
}
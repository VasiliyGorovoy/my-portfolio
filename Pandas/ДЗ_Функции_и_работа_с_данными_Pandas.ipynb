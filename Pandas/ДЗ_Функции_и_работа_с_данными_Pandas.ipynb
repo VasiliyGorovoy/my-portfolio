{
  "nbformat": 4,
  "nbformat_minor": 0,
  "metadata": {
    "colab": {
      "provenance": [],
      "authorship_tag": "ABX9TyPhTPhh3P7xwUFEV1hF22JK"
    },
    "kernelspec": {
      "name": "python3",
      "display_name": "Python 3"
    },
    "language_info": {
      "name": "python"
    }
  },
  "cells": [
    {
      "cell_type": "markdown",
      "source": [
        "Задание 1   \n",
        "Напишите функцию, которая классифицирует фильмы из материалов занятия по правилам:  \n",
        "оценка 2 и ниже — низкий рейтинг;  \n",
        "оценка 4 и ниже — средний рейтинг;  \n",
        "оценка 4.5 и 5 — высокий рейтинг.  \n",
        "Результат классификации запишите в столбец class."
      ],
      "metadata": {
        "id": "LOadJaTa-x-s"
      }
    },
    {
      "cell_type": "code",
      "source": [
        "import pandas as pd\n",
        "\n",
        "data1 = pd.read_csv('/content/movies.csv', sep = ',')\n",
        "data2 = pd.read_csv('/content/ratings.csv', sep = ',')\n",
        "\"\"\"объединяем датафреймы\"\"\"\n",
        "merge_data = pd.merge(data1, data2, on='movieId', how = 'inner')\n",
        "\"\"\"Создание нового столбца 'class' на основе оценки\"\"\"\n",
        "def class_rating(rating):\n",
        "    if rating <= 2:\n",
        "        return 'низкий рейтинг'\n",
        "    elif rating <= 4:\n",
        "        return 'средний рейтинг'\n",
        "    else:\n",
        "        return 'высокий рейтинг'\n",
        "\"\"\"Применяем функцию к столбцу 'rating' \"\"\"\n",
        "merge_data['class'] = merge_data['rating'].apply(class_rating)\n",
        "print(merge_data.head(10))\n"
      ],
      "metadata": {
        "id": "_rXGXdsj-9fM",
        "colab": {
          "base_uri": "https://localhost:8080/"
        },
        "outputId": "0a6ee207-9bc7-4abd-ec29-70d06b45deec"
      },
      "execution_count": null,
      "outputs": [
        {
          "output_type": "stream",
          "name": "stdout",
          "text": [
            "   movieId             title                                       genres  \\\n",
            "0        1  Toy Story (1995)  Adventure|Animation|Children|Comedy|Fantasy   \n",
            "1        1  Toy Story (1995)  Adventure|Animation|Children|Comedy|Fantasy   \n",
            "2        1  Toy Story (1995)  Adventure|Animation|Children|Comedy|Fantasy   \n",
            "3        1  Toy Story (1995)  Adventure|Animation|Children|Comedy|Fantasy   \n",
            "4        1  Toy Story (1995)  Adventure|Animation|Children|Comedy|Fantasy   \n",
            "5        1  Toy Story (1995)  Adventure|Animation|Children|Comedy|Fantasy   \n",
            "6        1  Toy Story (1995)  Adventure|Animation|Children|Comedy|Fantasy   \n",
            "7        1  Toy Story (1995)  Adventure|Animation|Children|Comedy|Fantasy   \n",
            "8        1  Toy Story (1995)  Adventure|Animation|Children|Comedy|Fantasy   \n",
            "9        1  Toy Story (1995)  Adventure|Animation|Children|Comedy|Fantasy   \n",
            "\n",
            "   userId  rating   timestamp            class  \n",
            "0       1     4.0   964982703  средний рейтинг  \n",
            "1       5     4.0   847434962  средний рейтинг  \n",
            "2       7     4.5  1106635946  высокий рейтинг  \n",
            "3      15     2.5  1510577970  средний рейтинг  \n",
            "4      17     4.5  1305696483  высокий рейтинг  \n",
            "5      18     3.5  1455209816  средний рейтинг  \n",
            "6      19     4.0   965705637  средний рейтинг  \n",
            "7      21     3.5  1407618878  средний рейтинг  \n",
            "8      27     3.0   962685262  средний рейтинг  \n",
            "9      31     5.0   850466616  высокий рейтинг  \n"
          ]
        }
      ]
    },
    {
      "cell_type": "markdown",
      "source": [
        "Задание 2  \n",
        "Используйте файл keywords.csv.  \n",
        "Нужно написать гео-классификатор, который каждой строке сможет выставить географическую принадлежность определённому региону.   \n",
        "Т. е. если поисковый запрос содержит название города региона, то в столбце \"region\" пишется название этого региона. Если поисковый запрос не содержит названия города, то ставим \"undefined\".  \n",
        "Правила распределения по регионам Центр, Северо-Запад и Дальний Восток:  \n",
        "geo_data = {  \n",
        "'Центр': ['москва', 'тула', 'ярославль'],  \n",
        "'Северо-Запад': ['петербург', 'псков', 'мурманск'],  \n",
        "'Дальний Восток': ['владивосток', 'сахалин', 'хабаровск']  \n",
        "}  \n",
        "Результат классификации запишите в отдельный столбец region."
      ],
      "metadata": {
        "id": "gVfjmfge-_Bn"
      }
    },
    {
      "cell_type": "code",
      "source": [
        "import pandas as pd\n",
        "import re\n",
        "\n",
        "df = pd.read_csv('/content/keywords.csv')\n",
        "# Правила распределения по регионам\n",
        "geo_data = {\n",
        "    'Центр': ['москва', 'тула', 'ярославль'],\n",
        "    'Северо-Запад': ['петербург', 'псков', 'мурманск'],\n",
        "    'Дальний Восток': ['владивосток', 'сахалин', 'хабаровск']\n",
        "}\n",
        "\n",
        "def classify_region(keyword):\n",
        "    \"\"\"Приводим к нижнему регистру для улечшения поиска\"\"\"\n",
        "    words = keyword.lower().split()\n",
        "\n",
        "    for region, cities in geo_data.items():\n",
        "        if any(city in words for city in cities):\n",
        "            return region\n",
        "\n",
        "    return 'undefined'\n",
        "\n",
        "\"\"\"Применяем функцию ко всем строкам в колонке 'keyword' \"\"\"\n",
        "df['region'] = df['keyword'].apply(classify_region)\n",
        "\n",
        "print(df.head(50))\n"
      ],
      "metadata": {
        "id": "dPVjOxJQ_rwv",
        "colab": {
          "base_uri": "https://localhost:8080/"
        },
        "outputId": "40c4c4d5-ec66-47fd-d520-b1ff8acbde6c"
      },
      "execution_count": null,
      "outputs": [
        {
          "output_type": "stream",
          "name": "stdout",
          "text": [
            "                          keyword     shows     region\n",
            "0                              вк  64292779  undefined\n",
            "1                   одноклассники  63810309  undefined\n",
            "2                           порно  41747114  undefined\n",
            "3                            ютуб  39995567  undefined\n",
            "4                       вконтакте  21014195  undefined\n",
            "5      одноклассники моя страница  19976138  undefined\n",
            "6                            майл  15144673  undefined\n",
            "7                           авито  14786593  undefined\n",
            "8                      переводчик  14453469  undefined\n",
            "9                          яндекс  13344734  undefined\n",
            "10                сбербанк онлайн  10725673  undefined\n",
            "11                           mail   7687204  undefined\n",
            "12                           игры   6075762  undefined\n",
            "13                        youtube   5729958  undefined\n",
            "14         вконтакте моя страница   5971451  undefined\n",
            "15                           секс   5431732  undefined\n",
            "16                           гугл   5175471  undefined\n",
            "17                             dr   4880955  undefined\n",
            "18                    алиэкспресс   4879645  undefined\n",
            "19                        рамблер   4540421  undefined\n",
            "20                    фильмы 2016   4486635  undefined\n",
            "21                         погода   4344510  undefined\n",
            "22                             vk   4330448  undefined\n",
            "23              ютуб видеохостинг   4215267  undefined\n",
            "24                          дойки   4133424  undefined\n",
            "25  одноклассники социальная сеть   4018230  undefined\n",
            "26                       мультики   3866664  undefined\n",
            "27                        контакт   3815111  undefined\n",
            "28                        фейсбук   3669993  undefined\n",
            "29                    порно видео   3858938  undefined\n",
            "30                         google   3461040  undefined\n",
            "31                        майл ру   3337779  undefined\n",
            "32                             од   3178503  undefined\n",
            "33                        новости   3137555  undefined\n",
            "34             дом 2 свежие серии   3144489  undefined\n",
            "35               игры для девочек   3053796  undefined\n",
            "36                   порно онлайн   3179321  undefined\n",
            "37                      инстаграм   2939686  undefined\n",
            "38              переводчик онлайн   3882735  undefined\n",
            "39                майл почта вход   2928262  undefined\n",
            "40                    калькулятор   2827625  undefined\n",
            "41                        mail ru   2707981  undefined\n",
            "42                       сбербанк   2594497  undefined\n",
            "43             mail ru почта вход   2576187  undefined\n",
            "44                              ю   2479897  undefined\n",
            "45                         vk com   2469370  undefined\n",
            "46                             ок   2423704  undefined\n",
            "47                        эротика   2410712  undefined\n",
            "48                        авто ру   2398693  undefined\n",
            "49                     почта майл   3386214  undefined\n"
          ]
        }
      ]
    }
  ]
}